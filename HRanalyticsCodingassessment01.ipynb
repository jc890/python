{
  "nbformat": 4,
  "nbformat_minor": 0,
  "metadata": {
    "colab": {
      "provenance": [],
      "authorship_tag": "ABX9TyNqd2DswiZYHDXY0AAD21YS",
      "include_colab_link": true
    },
    "kernelspec": {
      "name": "python3",
      "display_name": "Python 3"
    },
    "language_info": {
      "name": "python"
    }
  },
  "cells": [
    {
      "cell_type": "markdown",
      "metadata": {
        "id": "view-in-github",
        "colab_type": "text"
      },
      "source": [
        "<a href=\"https://colab.research.google.com/github/jc890/python/blob/master/HRanalyticsCodingassessment01.ipynb\" target=\"_parent\"><img src=\"https://colab.research.google.com/assets/colab-badge.svg\" alt=\"Open In Colab\"/></a>"
      ]
    },
    {
      "cell_type": "code",
      "execution_count": 2,
      "metadata": {
        "id": "wKItfbqWlMnX"
      },
      "outputs": [],
      "source": [
        "# ==========================================\n",
        "# HR Analytics - Promotion Prediction (IWCSF F1)\n",
        "# ==========================================\n",
        "\n",
        "# STEP 0: Imports\n",
        "import numpy as np\n",
        "import pandas as pd\n",
        "import seaborn as sns\n",
        "import matplotlib.pyplot as plt\n",
        "from sklearn.model_selection import StratifiedKFold\n",
        "from sklearn.preprocessing import LabelEncoder\n",
        "from sklearn.metrics import f1_score\n",
        "import lightgbm as lgb\n",
        "\n",
        "# ==========================================\n",
        "# STEP 1: Load Data\n",
        "# ==========================================\n",
        "train = pd.read_csv('/content/train_LZdllcl.csv')\n",
        "test = pd.read_csv('/content/test_2umaH9m.csv')\n",
        "sample = pd.read_csv('/content/sample_submission_M0L0uXE.csv')\n"
      ]
    },
    {
      "cell_type": "code",
      "source": [
        "\n",
        "# ==========================================\n",
        "# STEP 2: EDA (optional for visualization)\n",
        "# ==========================================\n",
        "print(\"Target distribution:\\n\", train['is_promoted'].value_counts(normalize=True))\n",
        "sns.countplot(x='is_promoted', data=train)\n",
        "plt.show()\n",
        "\n"
      ],
      "metadata": {
        "colab": {
          "base_uri": "https://localhost:8080/",
          "height": 537
        },
        "id": "gKjPwKTmlNSe",
        "outputId": "881370cf-4ec5-46b1-c44c-8049d33adf3b"
      },
      "execution_count": 3,
      "outputs": [
        {
          "output_type": "stream",
          "name": "stdout",
          "text": [
            "Target distribution:\n",
            " is_promoted\n",
            "0    0.91483\n",
            "1    0.08517\n",
            "Name: proportion, dtype: float64\n"
          ]
        },
        {
          "output_type": "display_data",
          "data": {
            "text/plain": [
              "<Figure size 640x480 with 1 Axes>"
            ],
            "image/png": "[encoded data removed]"
          },
          "metadata": {}
        }
      ]
    },
    {
      "cell_type": "code",
      "source": [
        "# ==========================================\n",
        "# STEP 3: Preprocessing\n",
        "# ==========================================\n",
        "# Fill missing values\n",
        "for col in ['education','previous_year_rating']:\n",
        "    train[col].fillna(train[col].mode()[0] if train[col].dtype=='O' else train[col].median(), inplace=True)\n",
        "    test[col].fillna(train[col].mode()[0] if train[col].dtype=='O' else train[col].median(), inplace=True)\n",
        "\n",
        "# Feature engineering\n",
        "for df in [train, test]:\n",
        "    df['trainings_per_year'] = df['no_of_trainings'] / (df['length_of_service'] + 1)\n",
        "    df['is_experienced'] = (df['length_of_service'] > 5).astype(int)\n",
        "    df['is_high_perf'] = ((df['KPIs_met >80%'] == 1) & (df['previous_year_rating'] >= 4)).astype(int)\n",
        "    df['region_freq'] = df['region'].map(train['region'].value_counts())\n",
        "    df['region_freq'].fillna(0, inplace=True)\n",
        "\n",
        "# Encode categorical features\n",
        "cat_features = ['department','region','education','gender','recruitment_channel']\n",
        "for col in cat_features:\n",
        "    lbl = LabelEncoder()\n",
        "    train[col] = lbl.fit_transform(train[col].astype(str))\n",
        "    test[col] = lbl.transform(test[col].astype(str))\n",
        "\n",
        "# Features and target\n",
        "X = train.drop(['employee_id','is_promoted'], axis=1)\n",
        "y = train['is_promoted']\n",
        "X_test = test.drop(['employee_id'], axis=1)\n"
      ],
      "metadata": {
        "colab": {
          "base_uri": "https://localhost:8080/"
        },
        "id": "4GCa7h-RlNq4",
        "outputId": "535f5ac9-4cc6-47fb-acf0-8465e2681cfd"
      },
      "execution_count": 4,
      "outputs": [
        {
          "output_type": "stream",
          "name": "stderr",
          "text": [
            "/tmp/ipython-input-561172478.py:6: FutureWarning: A value is trying to be set on a copy of a DataFrame or Series through chained assignment using an inplace method.\n",
            "The behavior will change in pandas 3.0. This inplace method will never work because the intermediate object on which we are setting values always behaves as a copy.\n",
            "\n",
            "For example, when doing 'df[col].method(value, inplace=True)', try using 'df.method({col: value}, inplace=True)' or df[col] = df[col].method(value) instead, to perform the operation inplace on the original object.\n",
            "\n",
            "\n",
            "  train[col].fillna(train[col].mode()[0] if train[col].dtype=='O' else train[col].median(), inplace=True)\n",
            "/tmp/ipython-input-561172478.py:7: FutureWarning: A value is trying to be set on a copy of a DataFrame or Series through chained assignment using an inplace method.\n",
            "The behavior will change in pandas 3.0. This inplace method will never work because the intermediate object on which we are setting values always behaves as a copy.\n",
            "\n",
            "For example, when doing 'df[col].method(value, inplace=True)', try using 'df.method({col: value}, inplace=True)' or df[col] = df[col].method(value) instead, to perform the operation inplace on the original object.\n",
            "\n",
            "\n",
            "  test[col].fillna(train[col].mode()[0] if train[col].dtype=='O' else train[col].median(), inplace=True)\n",
            "/tmp/ipython-input-561172478.py:15: FutureWarning: A value is trying to be set on a copy of a DataFrame or Series through chained assignment using an inplace method.\n",
            "The behavior will change in pandas 3.0. This inplace method will never work because the intermediate object on which we are setting values always behaves as a copy.\n",
            "\n",
            "For example, when doing 'df[col].method(value, inplace=True)', try using 'df.method({col: value}, inplace=True)' or df[col] = df[col].method(value) instead, to perform the operation inplace on the original object.\n",
            "\n",
            "\n",
            "  df['region_freq'].fillna(0, inplace=True)\n",
            "/tmp/ipython-input-561172478.py:15: FutureWarning: A value is trying to be set on a copy of a DataFrame or Series through chained assignment using an inplace method.\n",
            "The behavior will change in pandas 3.0. This inplace method will never work because the intermediate object on which we are setting values always behaves as a copy.\n",
            "\n",
            "For example, when doing 'df[col].method(value, inplace=True)', try using 'df.method({col: value}, inplace=True)' or df[col] = df[col].method(value) instead, to perform the operation inplace on the original object.\n",
            "\n",
            "\n",
            "  df['region_freq'].fillna(0, inplace=True)\n"
          ]
        }
      ]
    },
    {
      "cell_type": "code",
      "source": [
        "\n",
        "# ==========================================\n",
        "# STEP 4: IWCSF-inspired Stochastic F1 Function\n",
        "# ==========================================\n",
        "thresholds = np.linspace(0.1, 0.9, 50)  # candidate thresholds\n",
        "threshold_weights = np.ones(len(thresholds))  # start uniform\n",
        "fold_thresholds = []\n",
        "\n",
        "def lgb_f1_stochastic(y_pred, dataset, num_samples=20, decay=0.8):\n",
        "    global thresholds, threshold_weights, fold_thresholds\n",
        "    y_true = dataset.get_label()\n",
        "\n",
        "    # Sample thresholds according to weighted probabilities\n",
        "    prob_dist = threshold_weights / threshold_weights.sum()\n",
        "    sampled_thresholds = np.random.choice(thresholds, size=num_samples, replace=True, p=prob_dist)\n",
        "\n",
        "    best_f1 = 0\n",
        "    best_thresh = 0\n",
        "    for t in sampled_thresholds:\n",
        "        f1 = f1_score(y_true, (y_pred > t).astype(int))\n",
        "        if f1 > best_f1:\n",
        "            best_f1 = f1\n",
        "            best_thresh = t\n",
        "\n",
        "    # Update weights: decay all, reward best threshold\n",
        "    idx = np.argmin(np.abs(thresholds - best_thresh))\n",
        "    threshold_weights *= decay\n",
        "    threshold_weights[idx] += 1\n",
        "\n",
        "    fold_thresholds.append(best_thresh)\n",
        "    return 'f1', best_f1, True\n"
      ],
      "metadata": {
        "id": "h5k1ZCOKlONZ"
      },
      "execution_count": 5,
      "outputs": []
    },
    {
      "cell_type": "code",
      "source": [
        "\n",
        "# ==========================================\n",
        "# STEP 5: LightGBM Modeling\n",
        "# ==========================================\n",
        "params = {\n",
        "    'objective':'binary',\n",
        "    'boosting_type':'gbdt',\n",
        "    'metric':'binary_logloss',  # required for training\n",
        "    'num_leaves':31,\n",
        "    'learning_rate':0.05,\n",
        "    'feature_fraction':0.8,\n",
        "    'bagging_fraction':0.8,\n",
        "    'bagging_freq':5,\n",
        "    'verbose':-1,\n",
        "    'random_state':42\n",
        "}\n",
        "\n",
        "folds = StratifiedKFold(n_splits=5, shuffle=True, random_state=42)\n",
        "oof_preds = np.zeros(len(train))\n",
        "test_preds = np.zeros(len(test))\n",
        "\n",
        "for fold, (train_idx, val_idx) in enumerate(folds.split(X, y)):\n",
        "    print(f\"\\n---- Fold {fold+1} ----\")\n",
        "    X_train, X_val = X.iloc[train_idx], X.iloc[val_idx]\n",
        "    y_train, y_val = y.iloc[train_idx], y.iloc[val_idx]\n",
        "\n",
        "    dtrain = lgb.Dataset(X_train, y_train)\n",
        "    dval = lgb.Dataset(X_val, y_val, reference=dtrain)\n",
        "\n",
        "    callbacks = [\n",
        "        lgb.early_stopping(stopping_rounds=50, verbose=True),\n",
        "        lgb.log_evaluation(period=100)\n",
        "    ]\n",
        "\n",
        "    model = lgb.train(\n",
        "        params,\n",
        "        dtrain,\n",
        "        valid_sets=[dval],\n",
        "        feval=lgb_f1_stochastic,\n",
        "        callbacks=callbacks\n",
        "    )\n",
        "\n",
        "    val_pred = model.predict(X_val, num_iteration=model.best_iteration)\n",
        "    test_pred = model.predict(X_test, num_iteration=model.best_iteration)\n",
        "\n",
        "    oof_preds[val_idx] = val_pred\n",
        "    test_preds += test_pred / folds.n_splits\n"
      ],
      "metadata": {
        "colab": {
          "base_uri": "https://localhost:8080/"
        },
        "id": "AyFNhtTdlPJ1",
        "outputId": "2ccd0023-fffc-4df4-a24b-d655b2081c70"
      },
      "execution_count": 6,
      "outputs": [
        {
          "output_type": "stream",
          "name": "stdout",
          "text": [
            "\n",
            "---- Fold 1 ----\n",
            "Training until validation scores don't improve for 50 rounds\n",
            "[100]\tvalid_0's binary_logloss: 0.162306\tvalid_0's f1: 0.532365\n",
            "Did not meet early stopping. Best iteration is:\n",
            "[100]\tvalid_0's binary_logloss: 0.162306\tvalid_0's f1: 0.532365\n",
            "\n",
            "---- Fold 2 ----\n",
            "Training until validation scores don't improve for 50 rounds\n",
            "[100]\tvalid_0's binary_logloss: 0.170079\tvalid_0's f1: 0.489493\n",
            "Did not meet early stopping. Best iteration is:\n",
            "[100]\tvalid_0's binary_logloss: 0.170079\tvalid_0's f1: 0.489493\n",
            "\n",
            "---- Fold 3 ----\n",
            "Training until validation scores don't improve for 50 rounds\n",
            "[100]\tvalid_0's binary_logloss: 0.167639\tvalid_0's f1: 0.52461\n",
            "Did not meet early stopping. Best iteration is:\n",
            "[100]\tvalid_0's binary_logloss: 0.167639\tvalid_0's f1: 0.52461\n",
            "\n",
            "---- Fold 4 ----\n",
            "Training until validation scores don't improve for 50 rounds\n",
            "[100]\tvalid_0's binary_logloss: 0.162473\tvalid_0's f1: 0.540084\n",
            "Did not meet early stopping. Best iteration is:\n",
            "[100]\tvalid_0's binary_logloss: 0.162473\tvalid_0's f1: 0.540084\n",
            "\n",
            "---- Fold 5 ----\n",
            "Training until validation scores don't improve for 50 rounds\n",
            "[100]\tvalid_0's binary_logloss: 0.170228\tvalid_0's f1: 0.500621\n",
            "Did not meet early stopping. Best iteration is:\n",
            "[100]\tvalid_0's binary_logloss: 0.170228\tvalid_0's f1: 0.500621\n"
          ]
        }
      ]
    },
    {
      "cell_type": "code",
      "source": [
        "\n",
        "# ==========================================\n",
        "# STEP 6: Final Threshold & Submission\n",
        "# ==========================================\n",
        "final_thresh = np.mean(fold_thresholds)\n",
        "final_preds = (test_preds > final_thresh).astype(int)\n",
        "\n",
        "submission = sample.copy()\n",
        "submission['is_promoted'] = final_preds\n",
        "submission.to_csv('submission.csv', index=False)\n",
        "\n",
        "print(\"\\n✅ Submission saved as 'submission.csv'\")\n",
        "print(f\"Final Threshold: {final_thresh:.3f}\")\n"
      ],
      "metadata": {
        "colab": {
          "base_uri": "https://localhost:8080/"
        },
        "id": "IA_GmZoGlPDn",
        "outputId": "a005d655-e8aa-4475-a1d4-1b7000742e6b"
      },
      "execution_count": 7,
      "outputs": [
        {
          "output_type": "stream",
          "name": "stdout",
          "text": [
            "\n",
            "✅ Submission saved as 'submission.csv'\n",
            "Final Threshold: 0.215\n"
          ]
        }
      ]
    },
    {
      "cell_type": "code",
      "source": [],
      "metadata": {
        "id": "7slywFUelP2p"
      },
      "execution_count": null,
      "outputs": []
    }
  ]
}