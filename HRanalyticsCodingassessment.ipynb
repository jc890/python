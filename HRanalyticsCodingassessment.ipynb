{
  "nbformat": 4,
  "nbformat_minor": 0,
  "metadata": {
    "colab": {
      "provenance": [],
      "authorship_tag": "ABX9TyMvspeH5W/fmtZzxcpJIsHc",
      "include_colab_link": true
    },
    "kernelspec": {
      "name": "python3",
      "display_name": "Python 3"
    },
    "language_info": {
      "name": "python"
    }
  },
  "cells": [
    {
      "cell_type": "markdown",
      "metadata": {
        "id": "view-in-github",
        "colab_type": "text"
      },
      "source": [
        "<a href=\"https://colab.research.google.com/github/jc890/python/blob/master/HRanalyticsCodingassessment.ipynb\" target=\"_parent\"><img src=\"https://colab.research.google.com/assets/colab-badge.svg\" alt=\"Open In Colab\"/></a>"
      ]
    },
    {
      "cell_type": "code",
      "execution_count": 1,
      "metadata": {
        "id": "PBoJoFBj8mdP"
      },
      "outputs": [],
      "source": [
        "import numpy as np\n",
        "import pandas as pd\n",
        "from sklearn.model_selection import StratifiedKFold\n",
        "from sklearn.preprocessing import LabelEncoder\n",
        "from sklearn.metrics import f1_score\n",
        "import lightgbm as lgb\n",
        "\n",
        "# ==========================================\n",
        "# Load Data\n",
        "# ==========================================\n",
        "train = pd.read_csv('/content/train_LZdllcl.csv')\n",
        "test = pd.read_csv('/content/test_2umaH9m.csv')\n",
        "sample = pd.read_csv('/content/sample_submission_M0L0uXE.csv')\n",
        "\n"
      ]
    },
    {
      "cell_type": "code",
      "source": [
        "# ==========================================\n",
        "# Fill Missing Values\n",
        "# ==========================================\n",
        "train['education'].fillna(train['education'].mode()[0], inplace=True)\n",
        "test['education'].fillna(train['education'].mode()[0], inplace=True)\n",
        "\n",
        "train['previous_year_rating'].fillna(train['previous_year_rating'].median(), inplace=True)\n",
        "test['previous_year_rating'].fillna(train['previous_year_rating'].median(), inplace=True)\n",
        "\n",
        "# ==========================================\n",
        "# Feature Engineering\n",
        "# ==========================================\n",
        "for df in [train, test]:\n",
        "    df['trainings_per_year'] = df['no_of_trainings'] / (df['length_of_service'] + 1)\n",
        "    df['is_experienced'] = (df['length_of_service'] > 5).astype(int)\n",
        "    df['is_high_perf'] = ((df['KPIs_met >80%'] == 1) & (df['previous_year_rating'] >= 4)).astype(int)\n",
        "    df['region_freq'] = df['region'].map(train['region'].value_counts())\n",
        "    df['region_freq'].fillna(0, inplace=True)\n"
      ],
      "metadata": {
        "colab": {
          "base_uri": "https://localhost:8080/"
        },
        "id": "mCBOGH42WiZ9",
        "outputId": "aded3a30-ceb3-439f-8177-f3d8418ab7fa"
      },
      "execution_count": 2,
      "outputs": [
        {
          "output_type": "stream",
          "name": "stderr",
          "text": [
            "/tmp/ipython-input-1216505955.py:4: FutureWarning: A value is trying to be set on a copy of a DataFrame or Series through chained assignment using an inplace method.\n",
            "The behavior will change in pandas 3.0. This inplace method will never work because the intermediate object on which we are setting values always behaves as a copy.\n",
            "\n",
            "For example, when doing 'df[col].method(value, inplace=True)', try using 'df.method({col: value}, inplace=True)' or df[col] = df[col].method(value) instead, to perform the operation inplace on the original object.\n",
            "\n",
            "\n",
            "  train['education'].fillna(train['education'].mode()[0], inplace=True)\n",
            "/tmp/ipython-input-1216505955.py:5: FutureWarning: A value is trying to be set on a copy of a DataFrame or Series through chained assignment using an inplace method.\n",
            "The behavior will change in pandas 3.0. This inplace method will never work because the intermediate object on which we are setting values always behaves as a copy.\n",
            "\n",
            "For example, when doing 'df[col].method(value, inplace=True)', try using 'df.method({col: value}, inplace=True)' or df[col] = df[col].method(value) instead, to perform the operation inplace on the original object.\n",
            "\n",
            "\n",
            "  test['education'].fillna(train['education'].mode()[0], inplace=True)\n",
            "/tmp/ipython-input-1216505955.py:7: FutureWarning: A value is trying to be set on a copy of a DataFrame or Series through chained assignment using an inplace method.\n",
            "The behavior will change in pandas 3.0. This inplace method will never work because the intermediate object on which we are setting values always behaves as a copy.\n",
            "\n",
            "For example, when doing 'df[col].method(value, inplace=True)', try using 'df.method({col: value}, inplace=True)' or df[col] = df[col].method(value) instead, to perform the operation inplace on the original object.\n",
            "\n",
            "\n",
            "  train['previous_year_rating'].fillna(train['previous_year_rating'].median(), inplace=True)\n",
            "/tmp/ipython-input-1216505955.py:8: FutureWarning: A value is trying to be set on a copy of a DataFrame or Series through chained assignment using an inplace method.\n",
            "The behavior will change in pandas 3.0. This inplace method will never work because the intermediate object on which we are setting values always behaves as a copy.\n",
            "\n",
            "For example, when doing 'df[col].method(value, inplace=True)', try using 'df.method({col: value}, inplace=True)' or df[col] = df[col].method(value) instead, to perform the operation inplace on the original object.\n",
            "\n",
            "\n",
            "  test['previous_year_rating'].fillna(train['previous_year_rating'].median(), inplace=True)\n",
            "/tmp/ipython-input-1216505955.py:18: FutureWarning: A value is trying to be set on a copy of a DataFrame or Series through chained assignment using an inplace method.\n",
            "The behavior will change in pandas 3.0. This inplace method will never work because the intermediate object on which we are setting values always behaves as a copy.\n",
            "\n",
            "For example, when doing 'df[col].method(value, inplace=True)', try using 'df.method({col: value}, inplace=True)' or df[col] = df[col].method(value) instead, to perform the operation inplace on the original object.\n",
            "\n",
            "\n",
            "  df['region_freq'].fillna(0, inplace=True)\n",
            "/tmp/ipython-input-1216505955.py:18: FutureWarning: A value is trying to be set on a copy of a DataFrame or Series through chained assignment using an inplace method.\n",
            "The behavior will change in pandas 3.0. This inplace method will never work because the intermediate object on which we are setting values always behaves as a copy.\n",
            "\n",
            "For example, when doing 'df[col].method(value, inplace=True)', try using 'df.method({col: value}, inplace=True)' or df[col] = df[col].method(value) instead, to perform the operation inplace on the original object.\n",
            "\n",
            "\n",
            "  df['region_freq'].fillna(0, inplace=True)\n"
          ]
        }
      ]
    },
    {
      "cell_type": "code",
      "source": [
        "\n",
        "# ==========================================\n",
        "# Encoding\n",
        "# ==========================================\n",
        "cat_features = ['department', 'region', 'education', 'gender', 'recruitment_channel']\n",
        "lbl = LabelEncoder()\n",
        "for col in cat_features:\n",
        "    combined = pd.concat([train[col], test[col]]).astype(str)\n",
        "    lbl.fit(combined)\n",
        "    train[col] = lbl.transform(train[col].astype(str))\n",
        "    test[col] = lbl.transform(test[col].astype(str))\n"
      ],
      "metadata": {
        "id": "mgAErW9LYEo3"
      },
      "execution_count": 3,
      "outputs": []
    },
    {
      "cell_type": "code",
      "source": [
        "\n",
        "# ==========================================\n",
        "# Split Features and Target\n",
        "# ==========================================\n",
        "X = train.drop(['employee_id', 'is_promoted'], axis=1)\n",
        "y = train['is_promoted']\n",
        "X_test = test.drop(['employee_id'], axis=1)\n"
      ],
      "metadata": {
        "id": "fXz2V1nbYMF0"
      },
      "execution_count": 4,
      "outputs": []
    },
    {
      "cell_type": "code",
      "source": [
        "# ==========================================\n",
        "# Custom F1 evaluation with threshold scan\n",
        "# ==========================================\n",
        "fold_thresholds = []  # store best threshold per fold\n",
        "\n",
        "def lgb_f1_score_threshold_search(y_pred, dataset):\n",
        "    # Extract true labels\n",
        "    y_true = dataset.get_label()\n",
        "\n",
        "    best_f1 = 0\n",
        "    best_thresh = 0\n",
        "    for t in np.linspace(0.1, 0.9, 50):\n",
        "        f1 = f1_score(y_true, (y_pred > t).astype(int))\n",
        "        if f1 > best_f1:\n",
        "            best_f1 = f1\n",
        "            best_thresh = t\n",
        "\n",
        "    # Store threshold per fold for later use\n",
        "    fold_thresholds.append(best_thresh)\n",
        "\n",
        "    # Return in (name, value, is_higher_better) format\n",
        "    return 'f1', best_f1, True\n",
        "\n",
        "\n",
        "callbacks = [\n",
        "    lgb.early_stopping(stopping_rounds=50, verbose=True),\n",
        "    lgb.log_evaluation(period=100)  # optional, logs every 100 rounds\n",
        "]\n",
        "\n"
      ],
      "metadata": {
        "id": "mVDvpU96YYQw"
      },
      "execution_count": 14,
      "outputs": []
    },
    {
      "cell_type": "code",
      "source": [
        "# ==========================================\n",
        "# LightGBM parameters\n",
        "# ==========================================\n",
        "params = {\n",
        "    'objective': 'binary',\n",
        "    'boosting_type': 'gbdt',\n",
        "    'metric': 'binary_logloss',  # internal loss\n",
        "    'num_leaves': 31,\n",
        "    'learning_rate': 0.05,\n",
        "    'feature_fraction': 0.8,\n",
        "    'bagging_fraction': 0.8,\n",
        "    'bagging_freq': 5,\n",
        "    'verbose': -1,\n",
        "    'random_state': 42\n",
        "}\n",
        "\n",
        "# ==========================================\n",
        "# Training with Stratified K-Fold\n",
        "# ==========================================\n",
        "folds = StratifiedKFold(n_splits=5, shuffle=True, random_state=42)\n",
        "oof_preds = np.zeros(len(train))\n",
        "test_preds = np.zeros(len(test))\n",
        "\n",
        "for fold, (train_idx, val_idx) in enumerate(folds.split(X, y)):\n",
        "    print(f\"\\n---- Fold {fold+1} ----\")\n",
        "    X_train, X_val = X.iloc[train_idx], X.iloc[val_idx]\n",
        "    y_train, y_val = y.iloc[train_idx], y.iloc[val_idx]\n",
        "\n",
        "    dtrain = lgb.Dataset(X_train, y_train)\n",
        "    dval = lgb.Dataset(X_val, y_val, reference=dtrain)\n",
        "\n",
        "    model = lgb.train(\n",
        "        params,\n",
        "        dtrain,\n",
        "        valid_sets=[dval],\n",
        "        feval=lgb_f1_score_threshold_search,\n",
        "        callbacks=callbacks\n",
        "    )\n",
        "\n",
        "    val_pred = model.predict(X_val, num_iteration=model.best_iteration)\n",
        "    test_pred = model.predict(X_test, num_iteration=model.best_iteration)\n",
        "\n",
        "    oof_preds[val_idx] = val_pred\n",
        "    test_preds += test_pred / folds.n_splits\n",
        "\n"
      ],
      "metadata": {
        "colab": {
          "base_uri": "https://localhost:8080/"
        },
        "id": "eNxVNI4pYoYh",
        "outputId": "53ce4088-beb1-4725-9f19-a63c9457b50e"
      },
      "execution_count": 15,
      "outputs": [
        {
          "output_type": "stream",
          "name": "stdout",
          "text": [
            "\n",
            "---- Fold 1 ----\n",
            "Training until validation scores don't improve for 50 rounds\n",
            "Did not meet early stopping. Best iteration is:\n",
            "[100]\tvalid_0's binary_logloss: 0.162306\tvalid_0's f1: 0.536765\n",
            "\n",
            "---- Fold 2 ----\n",
            "Training until validation scores don't improve for 50 rounds\n",
            "Did not meet early stopping. Best iteration is:\n",
            "[100]\tvalid_0's binary_logloss: 0.170079\tvalid_0's f1: 0.491803\n",
            "\n",
            "---- Fold 3 ----\n",
            "Training until validation scores don't improve for 50 rounds\n",
            "Did not meet early stopping. Best iteration is:\n",
            "[100]\tvalid_0's binary_logloss: 0.167639\tvalid_0's f1: 0.535588\n",
            "\n",
            "---- Fold 4 ----\n",
            "Training until validation scores don't improve for 50 rounds\n",
            "Did not meet early stopping. Best iteration is:\n",
            "[100]\tvalid_0's binary_logloss: 0.162473\tvalid_0's f1: 0.549769\n",
            "\n",
            "---- Fold 5 ----\n",
            "Training until validation scores don't improve for 50 rounds\n",
            "Did not meet early stopping. Best iteration is:\n",
            "[100]\tvalid_0's binary_logloss: 0.170228\tvalid_0's f1: 0.507726\n"
          ]
        }
      ]
    },
    {
      "cell_type": "code",
      "source": [
        "\n",
        "# ==========================================\n",
        "# Apply average best threshold across folds\n",
        "# ==========================================\n",
        "avg_thresh = np.mean(fold_thresholds)\n",
        "print(f\"\\nAverage Best Threshold Across Folds: {avg_thresh:.3f}\")\n",
        "\n",
        "final_preds = (test_preds > avg_thresh).astype(int)\n",
        "\n"
      ],
      "metadata": {
        "colab": {
          "base_uri": "https://localhost:8080/"
        },
        "id": "M5IBfCXvY1Ry",
        "outputId": "d5be96ef-a560-4dd2-d075-b224327b7797"
      },
      "execution_count": 16,
      "outputs": [
        {
          "output_type": "stream",
          "name": "stdout",
          "text": [
            "\n",
            "Average Best Threshold Across Folds: 0.227\n"
          ]
        }
      ]
    },
    {
      "cell_type": "code",
      "source": [
        "# ==========================================\n",
        "# Safe Submission\n",
        "# ==========================================\n",
        "pred_df = pd.DataFrame({'employee_id': test['employee_id'], 'is_promoted': final_preds})\n",
        "submission = sample[['employee_id']].merge(pred_df, on='employee_id', how='left')\n",
        "submission.to_csv('submission.csv', index=False)\n",
        "print(\"\\n✅ Submission created with automatic F1-optimized threshold\")"
      ],
      "metadata": {
        "colab": {
          "base_uri": "https://localhost:8080/"
        },
        "id": "XhPrMbykfmAV",
        "outputId": "f87d617d-17a9-4081-866a-10dcd2e8fdf3"
      },
      "execution_count": 17,
      "outputs": [
        {
          "output_type": "stream",
          "name": "stdout",
          "text": [
            "\n",
            "✅ Submission created with automatic F1-optimized threshold\n"
          ]
        }
      ]
    }
  ]
}