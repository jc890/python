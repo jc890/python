{
  "nbformat": 4,
  "nbformat_minor": 0,
  "metadata": {
    "colab": {
      "provenance": [],
      "authorship_tag": "ABX9TyPthzeMJLpm15SKuicnxB4n",
      "include_colab_link": true
    },
    "kernelspec": {
      "name": "python3",
      "display_name": "Python 3"
    },
    "language_info": {
      "name": "python"
    }
  },
  "cells": [
    {
      "cell_type": "markdown",
      "metadata": {
        "id": "view-in-github",
        "colab_type": "text"
      },
      "source": [
        "<a href=\"https://colab.research.google.com/github/jc890/python/blob/master/assignment01.ipynb\" target=\"_parent\"><img src=\"https://colab.research.google.com/assets/colab-badge.svg\" alt=\"Open In Colab\"/></a>"
      ]
    },
    {
      "cell_type": "code",
      "execution_count": 20,
      "metadata": {
        "colab": {
          "base_uri": "https://localhost:8080/"
        },
        "id": "-QKf3MYHDMpC",
        "outputId": "32c92699-2232-4a16-fa50-8cc595a5289a"
      },
      "outputs": [
        {
          "output_type": "stream",
          "name": "stdout",
          "text": [
            "Enter the balance: hjqjgh\n",
            "Invalid input. Please enter a valid decimal number.\n",
            "Enter the balance: 56\n",
            "Enter the amount to withdraw: 6\n",
            "transaction successful\n",
            "your balance is 50.0\n"
          ]
        }
      ],
      "source": [
        "def get_balance():\n",
        "    while True:\n",
        "        try:\n",
        "            balance = float(input(\"Enter the balance: \"))\n",
        "            return balance\n",
        "        except ValueError:\n",
        "            print(\"Invalid input. Please enter a valid decimal number.\")\n",
        "\n",
        "def get_withdrawal():\n",
        "    while True:\n",
        "        try:\n",
        "            withdrawal = float(input(\"Enter the amount to withdraw: \"))\n",
        "            return withdrawal\n",
        "        except ValueError:\n",
        "            print(\"Invalid input. Please enter a valid decimal number.\")\n",
        "\n",
        "\n",
        "balance = get_balance()\n",
        "withdrawal = get_withdrawal()\n",
        "\n",
        "remaining = balance - withdrawal\n",
        "if remaining < 0:\n",
        "  print('insufficient balance')\n",
        "else:\n",
        "  print('transaction successful')\n",
        "  print(f'your balance is {remaining}')\n",
        "\n"
      ]
    },
    {
      "cell_type": "code",
      "source": [
        "units_consumed = int(input(\"Enter the number of units consumed: \"))\n",
        "\n",
        "bill = 0\n",
        "\n",
        "if units_consumed <= 100:\n",
        "    bill = units_consumed * 5  # 5 per unit for first 100 units\n",
        "\n",
        "elif units_consumed <= 200:\n",
        "    bill = (100 * 5) + (units_consumed - 100) * 7  # 7 per unit for next 100 units\n",
        "\n",
        "else:\n",
        "    bill = (100 * 5) + (100 * 7) + (units_consumed - 200) * 10  # 10 per unit above 200 units\n",
        "\n",
        "print(f\"Total bill amount is: {bill}\")\n",
        "\n",
        "\n",
        "\n",
        ""
      ],
      "metadata": {
        "colab": {
          "base_uri": "https://localhost:8080/"
        },
        "id": "qkwsrRoPJDuG",
        "outputId": "95c1e4c5-8ba9-4940-f734-9a1fca7c61c8"
      },
      "execution_count": 21,
      "outputs": [
        {
          "output_type": "stream",
          "name": "stdout",
          "text": [
            "Enter the number of units consumed: 500\n",
            "Total bill amount is: 4200\n"
          ]
        }
      ]
    },
    {
      "cell_type": "code",
      "source": [
        "temprature_value = float(input(\"Enter the temperature value: \"))\n",
        "unit = input(\"Enter the unit (C/F): \")\n",
        "if unit.upper() == \"C\":\n",
        "    fahrenheit = (temprature_value * 9/5) + 32\n",
        "    print(f\"{temprature_value} degrees Celsius is equal to {fahrenheit} degrees Fahrenheit.\")\n",
        "elif unit.upper() == \"F\":\n",
        "    celsius = (temprature_value - 32) * 5/9\n",
        "    print(f\"{temprature_value} degrees Fahrenheit is equal to {celsius} degrees Celsius.\")\n",
        "else:\n",
        "    print(\"Invalid unit. Please enter 'C' for Celsius or 'F' for Fahrenheit.\")"
      ],
      "metadata": {
        "colab": {
          "base_uri": "https://localhost:8080/"
        },
        "id": "gOkicLoFYZkE",
        "outputId": "b8d72c46-a9ed-45f8-cfb9-c730f2a55b32"
      },
      "execution_count": 23,
      "outputs": [
        {
          "output_type": "stream",
          "name": "stdout",
          "text": [
            "Enter the temperature value: 567\n",
            "Enter the unit (C/F): f\n",
            "567.0 degrees Fahrenheit is equal to 297.22222222222223 degrees Celsius.\n"
          ]
        }
      ]
    },
    {
      "cell_type": "code",
      "source": [
        "recharge_date = input(\"Enter the recharge date (DD/MM/YYYY): \")\n",
        "todays_date = input(\"Enter today's date (DD/MM/YYYY): \")\n",
        "remaining_days = int(todays_date.split('/')[0]) - int(recharge_date.split('/')[0])\n",
        "if remaining_days < 28:\n",
        " print('Recharging is required and plan has expired')\n",
        "else:\n",
        " print('Recharging is not required and plan is valid')"
      ],
      "metadata": {
        "colab": {
          "base_uri": "https://localhost:8080/"
        },
        "id": "_3gulnEUZUqE",
        "outputId": "e2fb2376-fd5a-4fb8-c81b-489768c998a0"
      },
      "execution_count": 24,
      "outputs": [
        {
          "output_type": "stream",
          "name": "stdout",
          "text": [
            "Enter the recharge date (DD/MM/YYYY): 27/12/2029\n",
            "Enter today's date (DD/MM/YYYY): 27/01/2029\n",
            "Recharging is required and plan has expired\n"
          ]
        }
      ]
    },
    {
      "cell_type": "code",
      "source": [
        "\n",
        "# 5. Bus Seat Reservation System\n",
        "\n",
        "\n",
        "booked = ['Amit', 'Sara', 'John']\n",
        "cancel = input(\"Enter name to cancel: \")\n",
        "new = input(\"Enter new passenger name: \")\n",
        "position = int(input(\"Enter position (0-based index): \"))\n",
        "\n",
        "if cancel in booked:\n",
        "    booked.remove(cancel)\n",
        "booked.insert(position, new)\n",
        "\n",
        "print(\"Updated bookings:\", booked)\n",
        "\n"
      ],
      "metadata": {
        "colab": {
          "base_uri": "https://localhost:8080/"
        },
        "id": "9-Mw8LJOcY2u",
        "outputId": "7afcebe6-0ef2-4cf5-95ad-c063c24af568"
      },
      "execution_count": 32,
      "outputs": [
        {
          "output_type": "stream",
          "name": "stdout",
          "text": [
            "Enter name to cancel: Sara\n",
            "Enter new passenger name: hh\n",
            "Enter position (0-based index): 3\n",
            "Updated bookings: ['Amit', 'John', 'hh']\n"
          ]
        }
      ]
    },
    {
      "cell_type": "code",
      "source": [
        "# 6. Sum of Even Numbers up to N\n",
        "\n",
        "\n",
        "n = int(input(\"Enter a number: \"))\n",
        "even_sum = sum([i for i in range(2, n+1, 2)])\n",
        "print(f\"Sum of even numbers: {even_sum}\")\n"
      ],
      "metadata": {
        "colab": {
          "base_uri": "https://localhost:8080/"
        },
        "id": "FziK1Okdf271",
        "outputId": "ff020de9-2d4b-4c0b-f360-d75bf35a6446"
      },
      "execution_count": 33,
      "outputs": [
        {
          "output_type": "stream",
          "name": "stdout",
          "text": [
            "Enter a number: 89\n",
            "Sum of even numbers: 1980\n"
          ]
        }
      ]
    },
    {
      "cell_type": "code",
      "source": [
        "# 7. Dictionary – Student Marks Summary\n",
        "\n",
        "\n",
        "students = {}\n",
        "for _ in range(3):\n",
        "    name = input(\"Enter name: \")\n",
        "    marks = float(input(\"Enter marks: \"))\n",
        "    students[name] = marks\n",
        "\n",
        "average_marks = sum(students.values()) / len(students)\n",
        "print(f\"Average Marks: {average_marks}\")\n"
      ],
      "metadata": {
        "colab": {
          "base_uri": "https://localhost:8080/"
        },
        "id": "hzMWjDIQ8YI3",
        "outputId": "78873659-a202-4310-81d3-3a88020c811a"
      },
      "execution_count": 34,
      "outputs": [
        {
          "output_type": "stream",
          "name": "stdout",
          "text": [
            "Enter name: gdd\n",
            "Enter marks: 73\n",
            "Enter name: dl\n",
            "Enter marks: 37382\n",
            "Enter name: dhd\n",
            "Enter marks: 28\n",
            "Average Marks: 12494.333333333334\n"
          ]
        }
      ]
    },
    {
      "cell_type": "code",
      "source": [
        "# 8. Dictionary – Word Frequency\n",
        "\n",
        "\n",
        "sentence = input(\"Enter a sentence: \").lower()\n",
        "words = sentence.split()\n",
        "freq = {}\n",
        "\n",
        "for word in words:\n",
        "    freq[word] = freq.get(word, 0) + 1\n",
        "\n",
        "for k, v in freq.items():\n",
        "    print(f\"{k}: {v}\")\n"
      ],
      "metadata": {
        "id": "Q5bpMGaw8kSs"
      },
      "execution_count": null,
      "outputs": []
    },
    {
      "cell_type": "code",
      "source": [
        "# 9.finding prime number\n",
        "prime_number = (int(input(\"Enter a number: \")))\n",
        "for i in range(2, prime_number):\n",
        "    if prime_number % i == 0:\n",
        "        print(f\"{prime_number} is not a prime number\")\n",
        "        break\n",
        "else:\n",
        "    print(f\"{prime_number} is a prime number\")\n",
        "\n"
      ],
      "metadata": {
        "colab": {
          "base_uri": "https://localhost:8080/"
        },
        "id": "zE2PiW2x8vsc",
        "outputId": "39d53d74-3747-489f-fca5-b42bd1722553"
      },
      "execution_count": 38,
      "outputs": [
        {
          "output_type": "stream",
          "name": "stdout",
          "text": [
            "Enter a number: 89\n",
            "89 is not a prime number\n"
          ]
        }
      ]
    },
    {
      "cell_type": "code",
      "source": [
        "# 10. Vowel Counter\n",
        "\n",
        "\n",
        "def count_vowels(s):\n",
        "    vowels = \"aeiouAEIOU\"\n",
        "    return sum(1 for char in s if char in vowels)\n",
        "\n",
        "string_input = input(\"Enter a string: \")\n",
        "print(f\"Number of vowels: {count_vowels(string_input)}\")\n"
      ],
      "metadata": {
        "colab": {
          "base_uri": "https://localhost:8080/"
        },
        "id": "-At2QT_3-SLb",
        "outputId": "cbc18b01-69f5-4d0a-ae1f-68e507086ddb"
      },
      "execution_count": 43,
      "outputs": [
        {
          "output_type": "stream",
          "name": "stdout",
          "text": [
            "Enter a string: oooooooobfrhhfas\n",
            "Number of vowels: 9\n"
          ]
        }
      ]
    },
    {
      "cell_type": "code",
      "source": [
        "# 11. Count Divisible Numbers\n",
        "\n",
        "\n",
        "n = int(input(\"Enter the range limit (N): \"))\n",
        "d = int(input(\"Enter the divisor (D): \"))\n",
        "\n",
        "count = len([i for i in range(1, n+1) if i % d == 0])\n",
        "print(f\"Count of numbers divisible by {d}: {count}\")\n"
      ],
      "metadata": {
        "colab": {
          "base_uri": "https://localhost:8080/"
        },
        "id": "zrMgwThWDTtA",
        "outputId": "1445dc87-72b1-4764-ad6c-40a1d7c2d4d4"
      },
      "execution_count": 44,
      "outputs": [
        {
          "output_type": "stream",
          "name": "stdout",
          "text": [
            "Enter the range limit (N): 5765657\n",
            "Enter the divisor (D): 667\n",
            "Count of numbers divisible by 667: 8644\n"
          ]
        }
      ]
    }
  ]
}